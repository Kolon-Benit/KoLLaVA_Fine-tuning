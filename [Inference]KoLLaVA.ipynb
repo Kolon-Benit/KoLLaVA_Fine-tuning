{
 "cells": [
  {
   "cell_type": "markdown",
   "id": "911c02f6-3d1b-4430-a260-49ba30ccfe28",
   "metadata": {},
   "source": [
    "### Library Import"
   ]
  },
  {
   "cell_type": "code",
   "execution_count": null,
   "id": "485e779f-40a6-4fab-a9f5-e74d9d97b2d1",
   "metadata": {},
   "outputs": [],
   "source": [
    "# LLM 관련\n",
    "import torch\n",
    "from transformers import AutoTokenizer, BitsAndBytesConfig, TextStreamer\n",
    "\n",
    "# LLaVA 관련\n",
    "from llava.model import LlavaLlamaForCausalLM\n",
    "from llava.conversation import conv_templates, SeparatorStyle\n",
    "from llava.utils import disable_torch_init\n",
    "from llava.constants import IMAGE_TOKEN_INDEX, DEFAULT_IMAGE_TOKEN, DEFAULT_IM_START_TOKEN, DEFAULT_IM_END_TOKEN\n",
    "from llava.mm_utils import tokenizer_image_token, get_model_name_from_path, KeywordsStoppingCriteria\n",
    "\n",
    "# 에러 관련\n",
    "import os\n",
    "os.environ['CUDA_LAUNCH_BLOCKING'] = \"1\"\n",
    "os.environ[\"CUDA_VISIBLE_DEVICES\"] = \"0\"\n",
    "\n",
    "# 기타\n",
    "import requests\n",
    "from PIL import Image\n",
    "from io import BytesIO"
   ]
  },
  {
   "cell_type": "markdown",
   "id": "4315e761-9ec3-4ede-9749-07aad5277828",
   "metadata": {},
   "source": [
    "### 모델 업로드"
   ]
  },
  {
   "cell_type": "code",
   "execution_count": null,
   "id": "1560ee2c-cbda-437d-9c53-84f831140d99",
   "metadata": {},
   "outputs": [],
   "source": [
    "model_path = \"KBNIT/KoLLaVA-1.5v-kolon-v1.2\" # Base model : \"tabtoyou/KoLLaVA-v1.5-Synatra-7b\", Fine-Tuned model : KBNIT/KoLLaVA-1.5v-kolon-v1.2\n",
    "\n",
    "model = LlavaLlamaForCausalLM.from_pretrained(model_path, low_cpu_mem_usage=True, torch_dtype=torch.bfloat16, device_map=\"balanced\") # 모델 업로드\n",
    "tokenizer = AutoTokenizer.from_pretrained(model_path, use_fast=False, torch_dtype=torch.bfloat16) # 토크나이저 업로드"
   ]
  },
  {
   "cell_type": "markdown",
   "id": "b0df9e5b-32fe-4c99-918b-1f5eeedbc04c",
   "metadata": {},
   "source": [
    "### Vision 설정"
   ]
  },
  {
   "cell_type": "code",
   "execution_count": null,
   "id": "cfa6e9d9-1d55-4f3f-a8e9-7438f29f86c8",
   "metadata": {},
   "outputs": [],
   "source": [
    "vision_tower = model.get_vision_tower()\n",
    "if not vision_tower.is_loaded:\n",
    "    vision_tower.load_model()\n",
    "vision_tower.to(device='cuda')\n",
    "image_processor = vision_tower.image_processor # 이미지 처리기 할당"
   ]
  },
  {
   "cell_type": "markdown",
   "id": "dc94d7c8-5d34-4d9d-8433-ac882edd5437",
   "metadata": {},
   "source": [
    "### 추론 함수 설정"
   ]
  },
  {
   "cell_type": "code",
   "execution_count": null,
   "id": "92fa8e60-7867-4f51-af25-7aaaa7ca9074",
   "metadata": {},
   "outputs": [],
   "source": [
    "def caption_image(image_file, prompt):\n",
    "\n",
    "    # 이미지 파일 불러오기\n",
    "    if image_file.startswith('http') or image_file.startswith('https'):\n",
    "        response = requests.get(image_file)\n",
    "        image = Image.open(BytesIO(response.content)).convert('RGB')\n",
    "    else:\n",
    "        image = Image.open(image_file).convert('RGB')\n",
    "\n",
    "    # Torch 초기화 비활성화\n",
    "    disable_torch_init()\n",
    "\n",
    "    # 대화 템플릿 및 역할 설정\n",
    "    conv_mode = \"mistral\"\n",
    "    conv = conv_templates[conv_mode].copy()\n",
    "    roles = conv.roles\n",
    "\n",
    "    # 이미지 전처리 및 텐서로 변환\n",
    "    image_tensor = image_processor.preprocess(image, return_tensors='pt')['pixel_values'].cuda() #half()\n",
    "    image_tensor = image_tensor.type(torch.bfloat16)\n",
    "  \n",
    "    # 입력 생성 및 대화에 추가\n",
    "    inp = f\"{roles[0]}: {prompt}\"\n",
    "    inp = DEFAULT_IM_START_TOKEN + DEFAULT_IMAGE_TOKEN + DEFAULT_IM_END_TOKEN + '\\n' + inp\n",
    "    conv.append_message(conv.roles[0], inp)\n",
    "    conv.append_message(conv.roles[1], None)\n",
    "\n",
    "    # 토큰화 및 생성을 위한 입력 데이터 준비\n",
    "    raw_prompt = conv.get_prompt()\n",
    "    input_ids = tokenizer_image_token(raw_prompt, tokenizer, IMAGE_TOKEN_INDEX, return_tensors='pt').unsqueeze(0).cuda()\n",
    "\n",
    "    # 생성 중단 기준 설정\n",
    "    stop_str = conv.sep if conv.sep_style != SeparatorStyle.TWO else conv.sep2\n",
    "    keywords = [stop_str]\n",
    "    stopping_criteria = KeywordsStoppingCriteria(keywords, tokenizer, input_ids)\n",
    "\n",
    "    # Torch 추론 모드에서 생성\n",
    "    with torch.inference_mode():\n",
    "        output_ids = model.generate(input_ids, images=image_tensor, do_sample=True, temperature=0.2, max_new_tokens=1024, \n",
    "                                     use_cache=True, top_k=50, top_p=0.80, min_length=10,  max_length=100, penalty_alpha=0.6, stopping_criteria=[stopping_criteria], no_repeat_ngram_size=5)\n",
    "\n",
    "    # do_sample=True : 컨텍스트가 동일한 경우 다른 문장을 나오게 하기 위함.\n",
    "    # min_length=10, max_length=50 : 생성된 문장이 너무 짧거나 길지 않게 하기 위함.\n",
    "    # repetition_penalty=1.5, no_repeat_ngram_size=3 : 반복되는 토큰 제외\n",
    "    # temperature=0.9 : 확률분포를 sharp하게 만들고 확률값이 높은 토큰이 더 잘 나오도록 설정.\n",
    "    # top_k=50, top_p=0.92 : 탑k 샘플링, 탑p 샘플링을 동시에 적용해 확률값이 낮은 후보 단어는 배제하도록 설정\n",
    "    # 기타 :  max_new_tokens=1024, stopping_criteria=[stopping_criteria]\n",
    "\n",
    "    # 출력 디코딩 및 정리\n",
    "    outputs = tokenizer.decode(output_ids[0, input_ids.shape[1]:]).strip()\n",
    "  \n",
    "    #conv.messages[-1][-1] = outputs\n",
    "    #output = outputs.rsplit('</s>', 1)[0]\n",
    "    print(outputs)\n",
    "    return outputs"
   ]
  },
  {
   "cell_type": "markdown",
   "id": "6db949b2-3102-476c-92b6-fd357ac534c3",
   "metadata": {},
   "source": [
    "### 추론"
   ]
  },
  {
   "cell_type": "code",
   "execution_count": null,
   "id": "0def044f-ee81-4ab7-8f20-d4f0a793d4ad",
   "metadata": {},
   "outputs": [],
   "source": [
    "caption_image(\"./data/image_folder/train2014/COCO_train2014_000000000009.jpg\", \"이미지에서 어떤 종류의 음식을 볼 수 있나요?\")"
   ]
  }
 ],
 "metadata": {
  "kernelspec": {
   "display_name": "Python 3 (ipykernel)",
   "language": "python",
   "name": "python3"
  },
  "language_info": {
   "codemirror_mode": {
    "name": "ipython",
    "version": 3
   },
   "file_extension": ".py",
   "mimetype": "text/x-python",
   "name": "python",
   "nbconvert_exporter": "python",
   "pygments_lexer": "ipython3",
   "version": "3.10.13"
  }
 },
 "nbformat": 4,
 "nbformat_minor": 5
}
